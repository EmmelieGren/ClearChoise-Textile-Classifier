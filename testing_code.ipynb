{
 "cells": [
  {
   "cell_type": "code",
   "execution_count": null,
   "metadata": {},
   "outputs": [],
   "source": [
    "# Testing yolo\n",
    "\n",
    "image_paths = [ \"./img_for_test/1.jpg\",\n",
    "                \"./img_for_test/8.jpg\",\n",
    "                \"./img_for_test/6.jpg\",\n",
    "                ]\n",
    "\n",
    "for image_path in image_paths:\n",
    "    img = cv2.imread(image_path)\n",
    "    yolo_result = yolo_model(img)\n",
    "    yolo_preds = yolo_result.pandas().xyxy[0]\n",
    "    \n",
    "    if len(yolo_preds) > 0:\n",
    "        print(f\"{image_path}\\nFlowers found: {len(yolo_preds)} \\n\")\n",
    "        #yolo_result.show()\n",
    "    else:\n",
    "        print(f\"{image_path}\\nNo flowers found.\\n\")"
   ]
  }
 ],
 "metadata": {
  "language_info": {
   "name": "python"
  }
 },
 "nbformat": 4,
 "nbformat_minor": 2
}
