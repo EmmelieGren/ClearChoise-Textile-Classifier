{
 "cells": [
  {
   "cell_type": "markdown",
   "metadata": {},
   "source": [
    "# Train model for detection of geometric patterns"
   ]
  },
  {
   "cell_type": "code",
   "execution_count": 1,
   "metadata": {},
   "outputs": [
    {
     "name": "stdout",
     "output_type": "stream",
     "text": [
      "WARNING:tensorflow:From c:\\Users\\emmel\\Desktop\\ClearChoise Textile Classifier\\env\\lib\\site-packages\\keras\\src\\losses.py:2976: The name tf.losses.sparse_softmax_cross_entropy is deprecated. Please use tf.compat.v1.losses.sparse_softmax_cross_entropy instead.\n",
      "\n"
     ]
    }
   ],
   "source": [
    "import os\n",
    "import cv2\n",
    "import numpy as np\n",
    "import matplotlib.pyplot as plt\n",
    "import seaborn as sns\n",
    "\n",
    "\n",
    "from sklearn.model_selection import train_test_split\n",
    "from sklearn.metrics import confusion_matrix\n",
    "\n",
    "import tensorflow as tf\n",
    "from tensorflow.keras.utils import to_categorical\n",
    "from tensorflow.keras import Sequential, layers\n",
    "from tensorflow.keras.callbacks import EarlyStopping\n"
   ]
  },
  {
   "cell_type": "markdown",
   "metadata": {},
   "source": [
    "import os\n",
    "import cv2\n",
    "import numpy as np\n",
    "import pandas as pd\n",
    "from sklearn.model_selection import train_test_split\n",
    "\n",
    "import tensorflow as tf\n",
    "from tensorflow.keras import layers, models, optimizers\n",
    "from tensorflow.keras.callbacks import EarlyStopping\n",
    "\n",
    "from tensorflow.keras import Sequential\n",
    "from tensorflow.keras.layers import Conv2D, MaxPooling2D, Flatten, Dense\n",
    "from tensorflow.keras.callbacks import EarlyStopping\n",
    "from tensorflow.keras.utils import to_categorical\n",
    "\n",
    "from matplotlib import pyplot as plt\n",
    "from sklearn.metrics import confusion_matrix, accuracy_score\n",
    "import seaborn as sns"
   ]
  },
  {
   "cell_type": "code",
   "execution_count": 2,
   "metadata": {},
   "outputs": [],
   "source": [
    "img_dim = (64,64)"
   ]
  },
  {
   "cell_type": "code",
   "execution_count": 3,
   "metadata": {},
   "outputs": [],
   "source": [
    "def load_and_preprocess_img(folder_path):\n",
    "    images = []\n",
    "    labels = []\n",
    "\n",
    "    for filename in os.listdir(folder_path): \n",
    "        if filename.endswith(\"jpg\"):\n",
    "            img = cv2.imread(os.path.join(folder_path, filename), cv2.IMREAD_GRAYSCALE)\n",
    "            img = cv2.resize(img, img_dim)\n",
    "            img = img[:, :, np.newaxis]\n",
    "\n",
    "            label = int(filename.split(\"_\")[0])\n",
    "\n",
    "            images.append(img)\n",
    "            labels.append(label)\n",
    "\n",
    "    return np.array(images), np.array(labels)"
   ]
  },
  {
   "cell_type": "code",
   "execution_count": 4,
   "metadata": {},
   "outputs": [],
   "source": [
    "folder_path = \"C:/Users/emmel/Desktop/ClearChoise Textile Classifier/img_sliced_and_tilted\""
   ]
  },
  {
   "cell_type": "code",
   "execution_count": 5,
   "metadata": {},
   "outputs": [
    {
     "name": "stdout",
     "output_type": "stream",
     "text": [
      "(3000, 32, 32, 1)\n",
      "(3000,)\n"
     ]
    }
   ],
   "source": [
    "images, labels = load_and_preprocess_img(folder_path)\n",
    "print(images.shape)\n",
    "print(labels.shape)"
   ]
  },
  {
   "cell_type": "code",
   "execution_count": 6,
   "metadata": {},
   "outputs": [],
   "source": [
    "images = images / 255"
   ]
  },
  {
   "cell_type": "code",
   "execution_count": 7,
   "metadata": {},
   "outputs": [],
   "source": [
    "x_train, x_test, y_train, y_test = train_test_split(images, labels, test_size=0.2, random_state=42)\n"
   ]
  },
  {
   "cell_type": "code",
   "execution_count": 8,
   "metadata": {},
   "outputs": [],
   "source": [
    "y_train_one_hot = to_categorical(y_train, num_classes = 3)\n",
    "y_test_one_hot = to_categorical(y_test, num_classes = 3)"
   ]
  },
  {
   "cell_type": "code",
   "execution_count": 9,
   "metadata": {},
   "outputs": [
    {
     "name": "stdout",
     "output_type": "stream",
     "text": [
      "x_train shape: (2400, 32, 32, 1)\n",
      "y_train shape: (2400, 3)\n",
      "x_test shape: (600, 32, 32, 1)\n",
      "y_test shape: (600, 3)\n"
     ]
    }
   ],
   "source": [
    "print(\"x_train shape:\", x_train.shape)\n",
    "print(\"y_train shape:\", y_train_one_hot.shape)\n",
    "print(\"x_test shape:\", x_test.shape)\n",
    "print(\"y_test shape:\", y_test_one_hot.shape)"
   ]
  },
  {
   "cell_type": "markdown",
   "metadata": {},
   "source": [
    "### Example of img preprocessed"
   ]
  },
  {
   "cell_type": "code",
   "execution_count": 10,
   "metadata": {},
   "outputs": [
    {
     "name": "stdout",
     "output_type": "stream",
     "text": [
      "()\n"
     ]
    },
    {
     "data": {
      "image/png": "[encoded data removed]",
      "text/plain": [
       "<Figure size 200x200 with 1 Axes>"
      ]
     },
     "metadata": {},
     "output_type": "display_data"
    }
   ],
   "source": [
    "plt.figure(figsize=(2, 2))\n",
    "plt.imshow(x_train[254,:,:])\n",
    "print(y_train[254].shape)"
   ]
  },
  {
   "cell_type": "markdown",
   "metadata": {},
   "source": [
    "### Model"
   ]
  },
  {
   "cell_type": "code",
   "execution_count": 12,
   "metadata": {},
   "outputs": [],
   "source": [
    "model = tf.keras.Sequential([\n",
    "    layers.Input(shape=(64,64,1)),\n",
    "    layers.Normalization(),\n",
    "    layers.Conv2D(16, (3, 3), activation='elu'),\n",
    "    layers.MaxPooling2D((2, 2)),\n",
    "\n",
    "    layers.Conv2D(32, (3, 3), activation='elu'),\n",
    "    layers.MaxPooling2D((2, 2)),\n",
    "    layers.Dropout(0.15),\n",
    "    layers.Conv2D(64, (3, 3),activation='elu'),\n",
    "    layers.MaxPooling2D((2, 2)),\n",
    "\n",
    "    layers.Conv2D(128, (3, 3),activation='elu'),\n",
    "    layers.MaxPooling2D((2, 2)),\n",
    "    layers.Dropout(0.35),\n",
    "    layers.Flatten(),\n",
    "    layers.Dense(128, activation='elu'),\n",
    "\n",
    "    layers.Dense(3, activation='softmax')\n",
    "])"
   ]
  },
  {
   "cell_type": "code",
   "execution_count": 13,
   "metadata": {},
   "outputs": [
    {
     "name": "stdout",
     "output_type": "stream",
     "text": [
      "Model: \"sequential\"\n",
      "_________________________________________________________________\n",
      " Layer (type)                Output Shape              Param #   \n",
      "=================================================================\n",
      " normalization (Normalizati  (None, 32, 32, 1)         3         \n",
      " on)                                                             \n",
      "                                                                 \n",
      " conv2d (Conv2D)             (None, 32, 32, 16)        160       \n",
      "                                                                 \n",
      " max_pooling2d (MaxPooling2  (None, 16, 16, 16)        0         \n",
      " D)                                                              \n",
      "                                                                 \n",
      " conv2d_1 (Conv2D)           (None, 16, 16, 32)        4640      \n",
      "                                                                 \n",
      " max_pooling2d_1 (MaxPoolin  (None, 8, 8, 32)          0         \n",
      " g2D)                                                            \n",
      "                                                                 \n",
      " dropout (Dropout)           (None, 8, 8, 32)          0         \n",
      "                                                                 \n",
      " conv2d_2 (Conv2D)           (None, 8, 8, 64)          18496     \n",
      "                                                                 \n",
      " max_pooling2d_2 (MaxPoolin  (None, 4, 4, 64)          0         \n",
      " g2D)                                                            \n",
      "                                                                 \n",
      " dropout_1 (Dropout)         (None, 4, 4, 64)          0         \n",
      "                                                                 \n",
      " conv2d_3 (Conv2D)           (None, 4, 4, 128)         73856     \n",
      "                                                                 \n",
      " max_pooling2d_3 (MaxPoolin  (None, 2, 2, 128)         0         \n",
      " g2D)                                                            \n",
      "                                                                 \n",
      " dropout_2 (Dropout)         (None, 2, 2, 128)         0         \n",
      "                                                                 \n",
      " flatten (Flatten)           (None, 512)               0         \n",
      "                                                                 \n",
      " dense (Dense)               (None, 128)               65664     \n",
      "                                                                 \n",
      " dense_1 (Dense)             (None, 3)                 387       \n",
      "                                                                 \n",
      "=================================================================\n",
      "Total params: 163206 (637.53 KB)\n",
      "Trainable params: 163203 (637.51 KB)\n",
      "Non-trainable params: 3 (16.00 Byte)\n",
      "_________________________________________________________________\n"
     ]
    }
   ],
   "source": [
    "model.compile(optimizer=tf.keras.optimizers.Adam(learning_rate =  0.001),       \n",
    "              loss=tf.keras.losses.CategoricalCrossentropy(),\n",
    "              metrics=tf.keras.metrics.CategoricalAccuracy())\n",
    "\n",
    "model.summary()"
   ]
  },
  {
   "cell_type": "code",
   "execution_count": 14,
   "metadata": {},
   "outputs": [],
   "source": [
    "early_stop = EarlyStopping(monitor = \"val_loss\", patience=10, restore_best_weights = True)"
   ]
  },
  {
   "cell_type": "markdown",
   "metadata": {},
   "source": [
    "### Run"
   ]
  },
  {
   "cell_type": "code",
   "execution_count": 15,
   "metadata": {},
   "outputs": [
    {
     "name": "stdout",
     "output_type": "stream",
     "text": [
      "Epoch 1/8\n",
      "WARNING:tensorflow:From c:\\Users\\emmel\\Desktop\\ClearChoise Textile Classifier\\env\\lib\\site-packages\\keras\\src\\utils\\tf_utils.py:492: The name tf.ragged.RaggedTensorValue is deprecated. Please use tf.compat.v1.ragged.RaggedTensorValue instead.\n",
      "\n",
      "19/19 [==============================] - 2s 43ms/step - loss: 1.0989 - categorical_accuracy: 0.3725 - val_loss: 1.0580 - val_categorical_accuracy: 0.3983\n",
      "Epoch 2/8\n",
      "19/19 [==============================] - 1s 28ms/step - loss: 0.9893 - categorical_accuracy: 0.4879 - val_loss: 1.0007 - val_categorical_accuracy: 0.5517\n",
      "Epoch 3/8\n",
      "19/19 [==============================] - 1s 32ms/step - loss: 0.8026 - categorical_accuracy: 0.6225 - val_loss: 0.9136 - val_categorical_accuracy: 0.6083\n",
      "Epoch 4/8\n",
      "19/19 [==============================] - 1s 31ms/step - loss: 0.6809 - categorical_accuracy: 0.6988 - val_loss: 0.6497 - val_categorical_accuracy: 0.7383\n",
      "Epoch 5/8\n",
      "19/19 [==============================] - 1s 29ms/step - loss: 0.5651 - categorical_accuracy: 0.7471 - val_loss: 0.5221 - val_categorical_accuracy: 0.7767\n",
      "Epoch 6/8\n",
      "19/19 [==============================] - 1s 29ms/step - loss: 0.4722 - categorical_accuracy: 0.7879 - val_loss: 0.4904 - val_categorical_accuracy: 0.7850\n",
      "Epoch 7/8\n",
      "19/19 [==============================] - 1s 28ms/step - loss: 0.4378 - categorical_accuracy: 0.8079 - val_loss: 0.3467 - val_categorical_accuracy: 0.8783\n",
      "Epoch 8/8\n",
      "19/19 [==============================] - 1s 29ms/step - loss: 0.3266 - categorical_accuracy: 0.8508 - val_loss: 0.2848 - val_categorical_accuracy: 0.8917\n"
     ]
    }
   ],
   "source": [
    "history = model.fit(\n",
    "    x_train,\n",
    "    y_train_one_hot,\n",
    "    epochs=8,\n",
    "    batch_size=128,\n",
    "    validation_data=(x_test, y_test_one_hot),\n",
    "    callbacks=[early_stop])"
   ]
  },
  {
   "cell_type": "markdown",
   "metadata": {},
   "source": [
    "### Results"
   ]
  },
  {
   "cell_type": "code",
   "execution_count": 16,
   "metadata": {},
   "outputs": [
    {
     "data": {
      "image/png": "[encoded data removed]",
      "text/plain": [
       "<Figure size 640x480 with 1 Axes>"
      ]
     },
     "metadata": {},
     "output_type": "display_data"
    }
   ],
   "source": [
    "plt.plot(history.history['categorical_accuracy'], label='Training Accuracy')\n",
    "plt.plot(history.history['val_categorical_accuracy'], label='Validation Accuracy')\n",
    "\n",
    "plt.title('Accuracy')\n",
    "plt.ylabel('Accuracy')\n",
    "plt.xlabel('Epoch')\n",
    "#plt.legend(loc='upper left')\n",
    "plt.show()"
   ]
  },
  {
   "cell_type": "code",
   "execution_count": 17,
   "metadata": {},
   "outputs": [],
   "source": [
    "class_labels = [\"check\", \n",
    "                \"stripe\", \n",
    "                \"dots\"\n",
    "]"
   ]
  },
  {
   "cell_type": "code",
   "execution_count": 18,
   "metadata": {},
   "outputs": [
    {
     "name": "stdout",
     "output_type": "stream",
     "text": [
      "19/19 [==============================] - 0s 4ms/step\n"
     ]
    },
    {
     "data": {
      "image/png": "[encoded data removed]",
      "text/plain": [
       "<Figure size 600x500 with 2 Axes>"
      ]
     },
     "metadata": {},
     "output_type": "display_data"
    }
   ],
   "source": [
    "y_pred = model.predict(x_test)\n",
    "y_pred_classes = np.argmax(y_pred, axis=1)\n",
    "y_true_classes = y_test\n",
    "confusion_mat = confusion_matrix(y_true_classes, y_pred_classes)\n",
    "\n",
    "plt.figure(figsize=(6, 5))\n",
    "sns.set(font_scale=1.2)  \n",
    "sns.heatmap(confusion_mat, annot=True, fmt='d', cmap=\"Greens\", \n",
    "            xticklabels= class_labels,\n",
    "            yticklabels= class_labels,)\n",
    "\n",
    "plt.xlabel(\"Predicted Labels\")\n",
    "plt.ylabel(\"True Labels\")\n",
    "plt.title(\"Confusion Matrix\")\n",
    "plt.show()"
   ]
  },
  {
   "cell_type": "markdown",
   "metadata": {},
   "source": [
    "### Save model"
   ]
  },
  {
   "cell_type": "code",
   "execution_count": 19,
   "metadata": {},
   "outputs": [],
   "source": [
    "#model.save(\"geometric_24-04-03.h5\")"
   ]
  },
  {
   "cell_type": "markdown",
   "metadata": {},
   "source": [
    "# Testning"
   ]
  },
  {
   "cell_type": "code",
   "execution_count": 20,
   "metadata": {},
   "outputs": [],
   "source": [
    "img_paths = [ \"C:/Users/emmel/Desktop/ClearChoise Textile Classifier/img_for_test/stripe_1.jpg\",\n",
    "                \"C:/Users/emmel/Desktop/ClearChoise Textile Classifier/img_for_test/stripe_2.jpg\",\n",
    "                \"C:/Users/emmel/Desktop/ClearChoise Textile Classifier/img_for_test/stripe_3.jpg\",\n",
    "                \"C:/Users/emmel/Desktop/ClearChoise Textile Classifier/img_for_test/stripe_5.jpg\",\n",
    "                \"C:/Users/emmel/Desktop/ClearChoise Textile Classifier/img_for_test/stripe_6.jpg\",\n",
    "                \"C:/Users/emmel/Desktop/ClearChoise Textile Classifier/img_for_test/check_1.jpg\",\n",
    "                \"C:/Users/emmel/Desktop/ClearChoise Textile Classifier/img_for_test/check_2.jpg\",\n",
    "                \"C:/Users/emmel/Desktop/ClearChoise Textile Classifier/img_for_test/check_3.jpg\",\n",
    "                \"C:/Users/emmel/Desktop/ClearChoise Textile Classifier/img_for_test/check_5.jpg\",\n",
    "                \"C:/Users/emmel/Desktop/ClearChoise Textile Classifier/img_for_test/check_6.jpg\",\n",
    "                \"C:/Users/emmel/Desktop/ClearChoise Textile Classifier/img_for_test/dots_1.jpg\",\n",
    "                \"C:/Users/emmel/Desktop/ClearChoise Textile Classifier/img_for_test/dots_2.jpg\",\n",
    "                ]"
   ]
  },
  {
   "cell_type": "code",
   "execution_count": 21,
   "metadata": {},
   "outputs": [
    {
     "name": "stdout",
     "output_type": "stream",
     "text": [
      "\n",
      "Predictions for: C:/Users/emmel/Desktop/ClearChoise Textile Classifier/img_for_test/stripe_1.jpg\n",
      "1/1 [==============================] - 0s 42ms/step\n",
      "Prediction probabilities:\n",
      "[[7.9237048e-05 9.9992073e-01 4.2476177e-08]]\n",
      "Predicted class: stripe\n",
      "Predicted Probability: 99.99%\n",
      "\n",
      "Predictions for: C:/Users/emmel/Desktop/ClearChoise Textile Classifier/img_for_test/stripe_2.jpg\n",
      "1/1 [==============================] - 0s 49ms/step\n",
      "Prediction probabilities:\n",
      "[[4.699756e-02 9.521609e-01 8.415617e-04]]\n",
      "Predicted class: stripe\n",
      "Predicted Probability: 95.22%\n",
      "\n",
      "Predictions for: C:/Users/emmel/Desktop/ClearChoise Textile Classifier/img_for_test/stripe_3.jpg\n",
      "1/1 [==============================] - 0s 40ms/step\n",
      "Prediction probabilities:\n",
      "[[0.6933511  0.30349177 0.00315715]]\n",
      "Predicted class: check\n",
      "Predicted Probability: 69.34%\n",
      "\n",
      "Predictions for: C:/Users/emmel/Desktop/ClearChoise Textile Classifier/img_for_test/stripe_5.jpg\n",
      "1/1 [==============================] - 0s 48ms/step\n",
      "Prediction probabilities:\n",
      "[[6.1848218e-04 9.9938130e-01 1.2952312e-07]]\n",
      "Predicted class: stripe\n",
      "Predicted Probability: 99.94%\n",
      "\n",
      "Predictions for: C:/Users/emmel/Desktop/ClearChoise Textile Classifier/img_for_test/stripe_6.jpg\n",
      "1/1 [==============================] - 0s 277ms/step\n",
      "Prediction probabilities:\n",
      "[[0.7744007  0.03532968 0.1902696 ]]\n",
      "Predicted class: check\n",
      "Predicted Probability: 77.44%\n",
      "\n",
      "Predictions for: C:/Users/emmel/Desktop/ClearChoise Textile Classifier/img_for_test/check_1.jpg\n",
      "1/1 [==============================] - 0s 54ms/step\n",
      "Prediction probabilities:\n",
      "[[0.8899293  0.00800708 0.10206362]]\n",
      "Predicted class: check\n",
      "Predicted Probability: 88.99%\n",
      "\n",
      "Predictions for: C:/Users/emmel/Desktop/ClearChoise Textile Classifier/img_for_test/check_2.jpg\n",
      "1/1 [==============================] - 0s 62ms/step\n",
      "Prediction probabilities:\n",
      "[[0.6192732  0.37936854 0.0013582 ]]\n",
      "Predicted class: check\n",
      "Predicted Probability: 61.93%\n",
      "\n",
      "Predictions for: C:/Users/emmel/Desktop/ClearChoise Textile Classifier/img_for_test/check_3.jpg\n",
      "1/1 [==============================] - 0s 55ms/step\n",
      "Prediction probabilities:\n",
      "[[1.20652085e-02 9.87329006e-01 6.05801702e-04]]\n",
      "Predicted class: stripe\n",
      "Predicted Probability: 98.73%\n",
      "\n",
      "Predictions for: C:/Users/emmel/Desktop/ClearChoise Textile Classifier/img_for_test/check_5.jpg\n",
      "1/1 [==============================] - 0s 34ms/step\n",
      "Prediction probabilities:\n",
      "[[1.4160248e-04 9.9985790e-01 5.0073737e-07]]\n",
      "Predicted class: stripe\n",
      "Predicted Probability: 99.99%\n",
      "\n",
      "Predictions for: C:/Users/emmel/Desktop/ClearChoise Textile Classifier/img_for_test/check_6.jpg\n",
      "1/1 [==============================] - 0s 43ms/step\n",
      "Prediction probabilities:\n",
      "[[0.9875332  0.00376735 0.00869935]]\n",
      "Predicted class: check\n",
      "Predicted Probability: 98.75%\n",
      "\n",
      "Predictions for: C:/Users/emmel/Desktop/ClearChoise Textile Classifier/img_for_test/dots_1.jpg\n",
      "1/1 [==============================] - 0s 34ms/step\n",
      "Prediction probabilities:\n",
      "[[0.57154894 0.00350234 0.42494872]]\n",
      "Predicted class: check\n",
      "Predicted Probability: 57.15%\n",
      "\n",
      "Predictions for: C:/Users/emmel/Desktop/ClearChoise Textile Classifier/img_for_test/dots_2.jpg\n",
      "1/1 [==============================] - 0s 33ms/step\n",
      "Prediction probabilities:\n",
      "[[0.42626694 0.01749999 0.55623305]]\n",
      "Predicted class: dots\n",
      "Predicted Probability: 55.62%\n"
     ]
    }
   ],
   "source": [
    "def load_and_preprocess_image(image_path, img_dim):\n",
    "    img = cv2.imread(image_path, cv2.IMREAD_GRAYSCALE)\n",
    "    img = cv2.resize(img, img_dim)\n",
    "    img = img[:, :, np.newaxis]\n",
    "    img = img / 255\n",
    "    return np.expand_dims(img, axis=0)\n",
    "\n",
    "def predict_from_image(test_image_preprocessed, model, class_labels):\n",
    "    prediction = model.predict(test_image_preprocessed)\n",
    "    predicted_class = np.argmax(prediction)\n",
    "    predicted_probability = prediction[0, predicted_class]\n",
    "\n",
    "    predicted_label = class_labels[predicted_class]\n",
    "\n",
    "    print(\"Prediction probabilities:\")\n",
    "    print(prediction)\n",
    "    print(\"Predicted class:\", predicted_label)\n",
    "    print(\"Predicted Probability: {:.2f}%\".format(predicted_probability * 100))\n",
    "\n",
    "    \n",
    "for image_path in img_paths:\n",
    "    test_image_preprocessed = load_and_preprocess_image(image_path, img_dim)\n",
    "    \n",
    "    print(\"\\nPredictions for:\", image_path)\n",
    "    predict_from_image(test_image_preprocessed, model, class_labels)\n"
   ]
  }
 ],
 "metadata": {
  "kernelspec": {
   "display_name": "development",
   "language": "python",
   "name": "python3"
  },
  "language_info": {
   "codemirror_mode": {
    "name": "ipython",
    "version": 3
   },
   "file_extension": ".py",
   "mimetype": "text/x-python",
   "name": "python",
   "nbconvert_exporter": "python",
   "pygments_lexer": "ipython3",
   "version": "3.10.6"
  }
 },
 "nbformat": 4,
 "nbformat_minor": 2
}
