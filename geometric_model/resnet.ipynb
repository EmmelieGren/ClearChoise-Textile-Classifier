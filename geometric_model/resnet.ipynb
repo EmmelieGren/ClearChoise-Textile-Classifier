{
 "cells": [
  {
   "cell_type": "code",
   "execution_count": 1,
   "metadata": {},
   "outputs": [
    {
     "name": "stdout",
     "output_type": "stream",
     "text": [
      "WARNING:tensorflow:From c:\\Users\\emmel\\Desktop\\ClearChoise Textile Classifier\\env\\lib\\site-packages\\keras\\src\\losses.py:2976: The name tf.losses.sparse_softmax_cross_entropy is deprecated. Please use tf.compat.v1.losses.sparse_softmax_cross_entropy instead.\n",
      "\n"
     ]
    }
   ],
   "source": [
    "import tensorflow as tf\n",
    "from tensorflow.keras import layers, models, optimizers, callbacks\n",
    "from tensorflow.keras.applications import ResNet50\n",
    "from sklearn.model_selection import train_test_split\n",
    "import numpy as np\n",
    "import os\n",
    "import cv2\n",
    "\n",
    "# Define image dimensions\n",
    "img_dim = (64, 64)\n",
    "num_classes = 3\n",
    "\n",
    "# Function to load and preprocess images\n",
    "def load_and_preprocess_img(folder_path):\n",
    "    images = []\n",
    "    labels = []\n",
    "\n",
    "    for filename in os.listdir(folder_path):\n",
    "        if filename.endswith(\"jpg\"):\n",
    "            img = cv2.imread(os.path.join(folder_path, filename), cv2.IMREAD_COLOR)\n",
    "            img = cv2.resize(img, img_dim)\n",
    "            images.append(img)\n",
    "            \n",
    "            label = int(filename.split(\"_\")[0])\n",
    "            labels.append(label)\n",
    "\n",
    "    return np.array(images), np.array(labels)"
   ]
  },
  {
   "cell_type": "code",
   "execution_count": 2,
   "metadata": {},
   "outputs": [],
   "source": [
    "folder_path = \"C:/Users/emmel/Desktop/ClearChoise Textile Classifier/img_sliced_and_tilted\""
   ]
  },
  {
   "cell_type": "code",
   "execution_count": 3,
   "metadata": {},
   "outputs": [],
   "source": [
    "# Load and preprocess images\n",
    "images, labels = load_and_preprocess_img(folder_path)\n",
    "\n",
    "# Split data into training and testing sets\n",
    "X_train, X_test, y_train, y_test = train_test_split(images, labels, test_size=0.2, random_state=42)\n",
    "\n",
    "# Normalize pixel values to range [0, 1]\n",
    "X_train = X_train / 255.0\n",
    "X_test = X_test / 255.0\n"
   ]
  },
  {
   "cell_type": "code",
   "execution_count": 4,
   "metadata": {},
   "outputs": [
    {
     "name": "stdout",
     "output_type": "stream",
     "text": [
      "WARNING:tensorflow:From c:\\Users\\emmel\\Desktop\\ClearChoise Textile Classifier\\env\\lib\\site-packages\\keras\\src\\backend.py:1398: The name tf.executing_eagerly_outside_functions is deprecated. Please use tf.compat.v1.executing_eagerly_outside_functions instead.\n",
      "\n",
      "WARNING:tensorflow:From c:\\Users\\emmel\\Desktop\\ClearChoise Textile Classifier\\env\\lib\\site-packages\\keras\\src\\layers\\normalization\\batch_normalization.py:979: The name tf.nn.fused_batch_norm is deprecated. Please use tf.compat.v1.nn.fused_batch_norm instead.\n",
      "\n",
      "WARNING:tensorflow:From c:\\Users\\emmel\\Desktop\\ClearChoise Textile Classifier\\env\\lib\\site-packages\\keras\\src\\optimizers\\__init__.py:309: The name tf.train.Optimizer is deprecated. Please use tf.compat.v1.train.Optimizer instead.\n",
      "\n"
     ]
    }
   ],
   "source": [
    "# Load pre-trained ResNet50 model (without top FC layers)\n",
    "base_model = ResNet50(weights='imagenet', include_top=False, input_shape=(64, 64, 3))\n",
    "\n",
    "# Freeze all layers in the base model\n",
    "for layer in base_model.layers:\n",
    "    layer.trainable = False\n",
    "\n",
    "# Add custom classification head\n",
    "x = layers.Flatten()(base_model.output)\n",
    "x = layers.Dense(256, activation='relu')(x)\n",
    "x = layers.Dropout(0.5)(x)\n",
    "output = layers.Dense(num_classes, activation='softmax')(x)\n",
    "\n",
    "# Create the model\n",
    "model = models.Model(inputs=base_model.input, outputs=output)\n",
    "\n",
    "# Compile the model\n",
    "model.compile(optimizer='adam',\n",
    "              loss='sparse_categorical_crossentropy',\n",
    "              metrics=['accuracy'])\n",
    "\n",
    "# Define callbacks\n",
    "callbacks_list = [\n",
    "    callbacks.EarlyStopping(monitor='val_loss', patience=5, restore_best_weights=True),\n",
    "    callbacks.ModelCheckpoint(filepath='resnet_2.h5', monitor='val_accuracy', save_best_only=True)\n",
    "]"
   ]
  },
  {
   "cell_type": "code",
   "execution_count": 5,
   "metadata": {},
   "outputs": [
    {
     "name": "stdout",
     "output_type": "stream",
     "text": [
      "Epoch 1/10\n",
      "WARNING:tensorflow:From c:\\Users\\emmel\\Desktop\\ClearChoise Textile Classifier\\env\\lib\\site-packages\\keras\\src\\utils\\tf_utils.py:492: The name tf.ragged.RaggedTensorValue is deprecated. Please use tf.compat.v1.ragged.RaggedTensorValue instead.\n",
      "\n",
      "WARNING:tensorflow:From c:\\Users\\emmel\\Desktop\\ClearChoise Textile Classifier\\env\\lib\\site-packages\\keras\\src\\engine\\base_layer_utils.py:384: The name tf.executing_eagerly_outside_functions is deprecated. Please use tf.compat.v1.executing_eagerly_outside_functions instead.\n",
      "\n",
      "38/38 [==============================] - ETA: 0s - loss: 0.8138 - accuracy: 0.6092"
     ]
    },
    {
     "name": "stderr",
     "output_type": "stream",
     "text": [
      "c:\\Users\\emmel\\Desktop\\ClearChoise Textile Classifier\\env\\lib\\site-packages\\keras\\src\\engine\\training.py:3103: UserWarning: You are saving your model as an HDF5 file via `model.save()`. This file format is considered legacy. We recommend using instead the native Keras format, e.g. `model.save('my_model.keras')`.\n",
      "  saving_api.save_model(\n"
     ]
    },
    {
     "name": "stdout",
     "output_type": "stream",
     "text": [
      "38/38 [==============================] - 18s 393ms/step - loss: 0.8138 - accuracy: 0.6092 - val_loss: 0.5772 - val_accuracy: 0.8183\n",
      "Epoch 2/10\n",
      "38/38 [==============================] - 14s 358ms/step - loss: 0.5228 - accuracy: 0.7750 - val_loss: 0.4499 - val_accuracy: 0.8267\n",
      "Epoch 3/10\n",
      "38/38 [==============================] - 13s 350ms/step - loss: 0.4066 - accuracy: 0.8383 - val_loss: 0.3399 - val_accuracy: 0.8850\n",
      "Epoch 4/10\n",
      "38/38 [==============================] - 13s 338ms/step - loss: 0.3433 - accuracy: 0.8692 - val_loss: 0.2862 - val_accuracy: 0.9217\n",
      "Epoch 5/10\n",
      "38/38 [==============================] - 12s 310ms/step - loss: 0.2889 - accuracy: 0.8858 - val_loss: 0.2590 - val_accuracy: 0.9150\n",
      "Epoch 6/10\n",
      "38/38 [==============================] - 12s 308ms/step - loss: 0.2703 - accuracy: 0.8892 - val_loss: 0.2651 - val_accuracy: 0.8850\n",
      "Epoch 7/10\n",
      "38/38 [==============================] - 12s 321ms/step - loss: 0.2662 - accuracy: 0.8954 - val_loss: 0.2087 - val_accuracy: 0.9317\n",
      "Epoch 8/10\n",
      "38/38 [==============================] - 12s 310ms/step - loss: 0.2388 - accuracy: 0.8996 - val_loss: 0.2078 - val_accuracy: 0.9217\n",
      "Epoch 9/10\n",
      "38/38 [==============================] - 12s 309ms/step - loss: 0.2206 - accuracy: 0.9142 - val_loss: 0.1852 - val_accuracy: 0.9317\n",
      "Epoch 10/10\n",
      "38/38 [==============================] - 13s 340ms/step - loss: 0.2036 - accuracy: 0.9212 - val_loss: 0.1905 - val_accuracy: 0.9300\n"
     ]
    }
   ],
   "source": [
    "# Train the model\n",
    "history = model.fit(X_train, y_train,\n",
    "                    epochs=10,\n",
    "                    batch_size=64,\n",
    "                    validation_data=(X_test, y_test),\n",
    "                    callbacks=callbacks_list)"
   ]
  },
  {
   "cell_type": "code",
   "execution_count": 6,
   "metadata": {},
   "outputs": [
    {
     "name": "stdout",
     "output_type": "stream",
     "text": [
      "19/19 [==============================] - 3s 151ms/step - loss: 0.1905 - accuracy: 0.9300\n",
      "Test Loss: 0.1905238777399063\n",
      "Test Accuracy: 0.9300000071525574\n"
     ]
    }
   ],
   "source": [
    "# Evaluate the model\n",
    "test_loss, test_accuracy = model.evaluate(X_test, y_test)\n",
    "print(\"Test Loss:\", test_loss)\n",
    "print(\"Test Accuracy:\", test_accuracy)"
   ]
  },
  {
   "cell_type": "code",
   "execution_count": 7,
   "metadata": {},
   "outputs": [
    {
     "name": "stdout",
     "output_type": "stream",
     "text": [
      "19/19 [==============================] - 4s 169ms/step\n"
     ]
    },
    {
     "data": {
      "image/png": "[encoded data removed]",
      "text/plain": [
       "<Figure size 800x600 with 1 Axes>"
      ]
     },
     "metadata": {},
     "output_type": "display_data"
    }
   ],
   "source": [
    "import matplotlib.pyplot as plt\n",
    "import seaborn as sns\n",
    "from sklearn.metrics import confusion_matrix\n",
    "\n",
    "# Predict labels for test set\n",
    "y_pred = model.predict(X_test)\n",
    "y_pred_classes = np.argmax(y_pred, axis=1)\n",
    "\n",
    "# Generate confusion matrix\n",
    "conf_matrix = confusion_matrix(y_test, y_pred_classes)\n",
    "\n",
    "# Plot confusion matrix\n",
    "plt.figure(figsize=(8, 6))\n",
    "sns.heatmap(conf_matrix, annot=True, fmt=\"d\", cmap=\"Blues\", cbar=False)\n",
    "plt.xlabel(\"Predicted labels\")\n",
    "plt.ylabel(\"True labels\")\n",
    "plt.title(\"Confusion Matrix\")\n",
    "plt.show()\n"
   ]
  },
  {
   "cell_type": "code",
   "execution_count": 8,
   "metadata": {},
   "outputs": [],
   "source": [
    "geometric_modelpath = \"C:/Users/emmel/Desktop/ClearChoise Textile Classifier/geometric_model/best_model.h5\" \n",
    "\n",
    "geometric_model = tf.keras.models.load_model(geometric_modelpath)\n",
    "\n",
    "labels_geometric = [\"check\", \n",
    "                    \"stripe\", \n",
    "                    \"dots\"\n",
    "]"
   ]
  },
  {
   "cell_type": "code",
   "execution_count": 9,
   "metadata": {},
   "outputs": [],
   "source": [
    "def load_and_preprocess_image(image_path, img_dim):\n",
    "    img = cv2.imread(image_path, cv2.IMREAD_GRAYSCALE)\n",
    "    img = cv2.resize(img, img_dim)\n",
    "    img = img[:, :, np.newaxis]\n",
    "    img = img / 255\n",
    "    return np.expand_dims(img, axis=0)\n",
    "\n",
    "def predict_from_image(test_image_preprocessed, geometric_model, class_labels):\n",
    "    prediction = geometric_model.predict(test_image_preprocessed)\n",
    "    predicted_class = np.argmax(prediction)\n",
    "    predicted_probability = prediction[0, predicted_class]\n",
    "\n",
    "    predicted_label = class_labels[predicted_class]\n",
    "\n",
    "    print(\"Prediction probabilities:\")\n",
    "    print(prediction)\n",
    "    print(\"Predicted class:\", predicted_label)\n",
    "    print(\"Predicted Probability: {:.2f}%\".format(predicted_probability * 100))"
   ]
  },
  {
   "cell_type": "code",
   "execution_count": 10,
   "metadata": {},
   "outputs": [],
   "source": [
    "img_paths = [ \"C:/Users/emmel/Desktop/ClearChoise Textile Classifier/img_for_test/stripe_1.jpg\",\n",
    "                \"C:/Users/emmel/Desktop/ClearChoise Textile Classifier/img_for_test/stripe_2.jpg\",\n",
    "                \"C:/Users/emmel/Desktop/ClearChoise Textile Classifier/img_for_test/stripe_3.jpg\",\n",
    "                \"C:/Users/emmel/Desktop/ClearChoise Textile Classifier/img_for_test/stripe_5.jpg\",\n",
    "                \"C:/Users/emmel/Desktop/ClearChoise Textile Classifier/img_for_test/stripe_6.jpg\",\n",
    "                \"C:/Users/emmel/Desktop/ClearChoise Textile Classifier/img_for_test/check_1.jpg\",\n",
    "                \"C:/Users/emmel/Desktop/ClearChoise Textile Classifier/img_for_test/check_2.jpg\",\n",
    "                \"C:/Users/emmel/Desktop/ClearChoise Textile Classifier/img_for_test/check_3.jpg\",\n",
    "                \"C:/Users/emmel/Desktop/ClearChoise Textile Classifier/img_for_test/check_5.jpg\",\n",
    "                \"C:/Users/emmel/Desktop/ClearChoise Textile Classifier/img_for_test/check_6.jpg\",\n",
    "                \"C:/Users/emmel/Desktop/ClearChoise Textile Classifier/img_for_test/dots_1.jpg\",\n",
    "                \"C:/Users/emmel/Desktop/ClearChoise Textile Classifier/img_for_test/dots_2.jpg\",\n",
    "                ]"
   ]
  },
  {
   "cell_type": "code",
   "execution_count": 11,
   "metadata": {},
   "outputs": [
    {
     "name": "stdout",
     "output_type": "stream",
     "text": [
      "1/1 [==============================] - 1s 986ms/step\n",
      "Image: C:/Users/emmel/Desktop/ClearChoise Textile Classifier/img_for_test/stripe_1.jpg\n",
      "Predicted label: [1]\n",
      "1/1 [==============================] - 0s 92ms/step\n",
      "Image: C:/Users/emmel/Desktop/ClearChoise Textile Classifier/img_for_test/stripe_2.jpg\n",
      "Predicted label: [1]\n",
      "1/1 [==============================] - 0s 86ms/step\n",
      "Image: C:/Users/emmel/Desktop/ClearChoise Textile Classifier/img_for_test/stripe_3.jpg\n",
      "Predicted label: [1]\n",
      "1/1 [==============================] - 0s 74ms/step\n",
      "Image: C:/Users/emmel/Desktop/ClearChoise Textile Classifier/img_for_test/stripe_5.jpg\n",
      "Predicted label: [1]\n",
      "1/1 [==============================] - 0s 81ms/step\n",
      "Image: C:/Users/emmel/Desktop/ClearChoise Textile Classifier/img_for_test/stripe_6.jpg\n",
      "Predicted label: [2]\n",
      "1/1 [==============================] - 0s 84ms/step\n",
      "Image: C:/Users/emmel/Desktop/ClearChoise Textile Classifier/img_for_test/check_1.jpg\n",
      "Predicted label: [0]\n",
      "1/1 [==============================] - 0s 79ms/step\n",
      "Image: C:/Users/emmel/Desktop/ClearChoise Textile Classifier/img_for_test/check_2.jpg\n",
      "Predicted label: [1]\n",
      "1/1 [==============================] - 0s 85ms/step\n",
      "Image: C:/Users/emmel/Desktop/ClearChoise Textile Classifier/img_for_test/check_3.jpg\n",
      "Predicted label: [0]\n",
      "1/1 [==============================] - 0s 87ms/step\n",
      "Image: C:/Users/emmel/Desktop/ClearChoise Textile Classifier/img_for_test/check_5.jpg\n",
      "Predicted label: [0]\n",
      "1/1 [==============================] - 0s 82ms/step\n",
      "Image: C:/Users/emmel/Desktop/ClearChoise Textile Classifier/img_for_test/check_6.jpg\n",
      "Predicted label: [0]\n",
      "1/1 [==============================] - 0s 85ms/step\n",
      "Image: C:/Users/emmel/Desktop/ClearChoise Textile Classifier/img_for_test/dots_1.jpg\n",
      "Predicted label: [2]\n",
      "1/1 [==============================] - 0s 82ms/step\n",
      "Image: C:/Users/emmel/Desktop/ClearChoise Textile Classifier/img_for_test/dots_2.jpg\n",
      "Predicted label: [2]\n"
     ]
    }
   ],
   "source": [
    "import tensorflow as tf\n",
    "import cv2\n",
    "import numpy as np\n",
    "\n",
    "# Load the best model\n",
    "model = tf.keras.models.load_model('resnet.h5')  # Assuming 'best_model.h5' is the name of your saved model file\n",
    "\n",
    "# Function to preprocess a single image\n",
    "def preprocess_img(image_path):\n",
    "    img = cv2.imread(image_path, cv2.IMREAD_COLOR)\n",
    "    img = cv2.resize(img, (64, 64))  # Assuming input image dimensions are 64x64\n",
    "    img = img / 255.0  # Normalize pixel values to range [0, 1]\n",
    "    return img.reshape(1, 64, 64, 3)  # Reshape image to match model input shape\n",
    "\n",
    "true_labels = [\"check\", \"stripe\", \"dots\"]  # Add true labels corresponding to each image\n",
    "\n",
    "# Predict labels for each image\n",
    "for image_path in img_paths:\n",
    "    # Preprocess the image\n",
    "    img = preprocess_img(image_path)\n",
    "    \n",
    "    # Predict the class label\n",
    "    label = np.argmax(model.predict(img), axis=1)\n",
    "    \n",
    "    print(\"Image:\", image_path)\n",
    "    print(\"Predicted label:\", label)\n"
   ]
  }
 ],
 "metadata": {
  "kernelspec": {
   "display_name": "env",
   "language": "python",
   "name": "python3"
  },
  "language_info": {
   "codemirror_mode": {
    "name": "ipython",
    "version": 3
   },
   "file_extension": ".py",
   "mimetype": "text/x-python",
   "name": "python",
   "nbconvert_exporter": "python",
   "pygments_lexer": "ipython3",
   "version": "3.10.6"
  }
 },
 "nbformat": 4,
 "nbformat_minor": 2
}
