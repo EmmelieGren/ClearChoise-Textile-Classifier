{
 "cells": [
  {
   "cell_type": "code",
   "execution_count": 2,
   "metadata": {},
   "outputs": [],
   "source": [
    "import cv2\n",
    "from matplotlib import pyplot as plt\n",
    "import os\n",
    "import numpy as np\n",
    "\n",
    "from PIL import Image\n",
    "import random\n",
    "from PIL import Image, ImageOps"
   ]
  },
  {
   "cell_type": "code",
   "execution_count": 3,
   "metadata": {},
   "outputs": [],
   "source": [
    "input_folder = 'img'\n",
    "output_folder = 'img_sliced_and_tilted'"
   ]
  },
  {
   "cell_type": "code",
   "execution_count": 4,
   "metadata": {},
   "outputs": [],
   "source": [
    "def random_slices(image, num_slices=100, slice_size=210):\n",
    "    width, height = image.size\n",
    "    slices = []\n",
    "\n",
    "    for _ in range(num_slices):\n",
    "        start_x = random.randint(0, width - slice_size)\n",
    "        start_y = random.randint(0, height - slice_size)\n",
    "        slice_img = image.crop((start_x, start_y, start_x + slice_size, start_y + slice_size))\n",
    "        slices.append(slice_img)\n",
    "\n",
    "    return slices\n",
    "\n",
    "def crop_to_center(slice_img, target_size=150):\n",
    "    left = (slice_img.width - target_size) // 2\n",
    "    top = (slice_img.height - target_size) // 2\n",
    "    right = (slice_img.width + target_size) // 2\n",
    "    bottom = (slice_img.height + target_size) // 2\n",
    "\n",
    "    cropped_img = slice_img.crop((left, top, right, bottom))\n",
    "    return cropped_img\n",
    "\n",
    "def slice_and_rotate_image(image, output_path, original_image_name, final_slice_size=200):\n",
    "    num_saved_slices = 0\n",
    "\n",
    "    slices = random_slices(image)\n",
    "\n",
    "    for i, slice_img in enumerate(slices):\n",
    "        angle = random.randint(0, 360)\n",
    "        rotated_slice = slice_img.rotate(angle, expand=True, resample=Image.BICUBIC, fillcolor='white')\n",
    "\n",
    "        cropped_slice = crop_to_center(rotated_slice, target_size=final_slice_size)\n",
    "\n",
    "        output_filename = f\"{original_image_name}_slice_{i}.jpg\"\n",
    "\n",
    "        cropped_slice.save(os.path.join(output_path, output_filename))\n",
    "        num_saved_slices += 1\n",
    "\n",
    "    return num_saved_slices"
   ]
  },
  {
   "cell_type": "code",
   "execution_count": null,
   "metadata": {},
   "outputs": [],
   "source": [
    "image_files = [f for f in os.listdir(input_folder) if f.endswith('.jpg')]\n",
    "\n",
    "for image_file in image_files:\n",
    "    image_path = os.path.join(input_folder, image_file)\n",
    "    img = Image.open(image_path)\n",
    "\n",
    "    original_image_name = os.path.splitext(image_file)[0]\n",
    "\n",
    "    num_saved_slices = slice_and_rotate_image(img, output_folder, original_image_name, final_slice_size=150)\n",
    "    print(f'Number of slices obtained from {image_file}: {num_saved_slices}')"
   ]
  },
  {
   "cell_type": "code",
   "execution_count": null,
   "metadata": {},
   "outputs": [],
   "source": [
    "img = \"\"\n",
    "img = cv2.imread(img)\n",
    "img.shape"
   ]
  }
 ],
 "metadata": {
  "kernelspec": {
   "display_name": "development",
   "language": "python",
   "name": "python3"
  },
  "language_info": {
   "codemirror_mode": {
    "name": "ipython",
    "version": 3
   },
   "file_extension": ".py",
   "mimetype": "text/x-python",
   "name": "python",
   "nbconvert_exporter": "python",
   "pygments_lexer": "ipython3",
   "version": "3.10.6"
  }
 },
 "nbformat": 4,
 "nbformat_minor": 2
}
