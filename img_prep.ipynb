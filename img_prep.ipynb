{
 "cells": [
  {
   "cell_type": "code",
   "execution_count": 1,
   "metadata": {},
   "outputs": [],
   "source": [
    "import cv2\n",
    "from matplotlib import pyplot as plt\n",
    "import os\n",
    "import numpy as np\n",
    "\n",
    "from PIL import Image\n",
    "import random\n",
    "from PIL import Image, ImageOps"
   ]
  },
  {
   "cell_type": "code",
   "execution_count": 2,
   "metadata": {},
   "outputs": [],
   "source": [
    "input_folder = 'img'\n",
    "output_folder = 'img_sliced_and_tilted'"
   ]
  },
  {
   "cell_type": "code",
   "execution_count": 7,
   "metadata": {},
   "outputs": [],
   "source": [
    "def random_slices(image, num_slices=140, slice_size=210):\n",
    "    width, height = image.size\n",
    "    slices = []\n",
    "\n",
    "    for _ in range(num_slices):\n",
    "        start_x = random.randint(0, width - slice_size)\n",
    "        start_y = random.randint(0, height - slice_size)\n",
    "        slice_img = image.crop((start_x, start_y, start_x + slice_size, start_y + slice_size))\n",
    "        slices.append(slice_img)\n",
    "\n",
    "    return slices\n",
    "\n",
    "def crop_to_center(slice_img, target_size=150):\n",
    "    left = (slice_img.width - target_size) // 2\n",
    "    top = (slice_img.height - target_size) // 2\n",
    "    right = (slice_img.width + target_size) // 2\n",
    "    bottom = (slice_img.height + target_size) // 2\n",
    "\n",
    "    cropped_img = slice_img.crop((left, top, right, bottom))\n",
    "    return cropped_img\n",
    "\n",
    "def slice_and_rotate_image(image, output_path, original_image_name, final_slice_size=200):\n",
    "    num_saved_slices = 0\n",
    "\n",
    "    slices = random_slices(image)\n",
    "\n",
    "    for i, slice_img in enumerate(slices):\n",
    "        angle = random.randint(0, 360)\n",
    "        rotated_slice = slice_img.rotate(angle, expand=True, resample=Image.BICUBIC, fillcolor='white')\n",
    "\n",
    "        cropped_slice = crop_to_center(rotated_slice, target_size=final_slice_size)\n",
    "\n",
    "        output_filename = f\"{original_image_name}_slice_{i}.jpg\"\n",
    "\n",
    "        cropped_slice.save(os.path.join(output_path, output_filename))\n",
    "        num_saved_slices += 1\n",
    "\n",
    "    return num_saved_slices"
   ]
  },
  {
   "cell_type": "code",
   "execution_count": 9,
   "metadata": {},
   "outputs": [
    {
     "name": "stdout",
     "output_type": "stream",
     "text": [
      "Number of slices obtained from 0_1.jpg: 140\n",
      "Number of slices obtained from 0_10.jpg: 140\n",
      "Number of slices obtained from 0_11.jpg: 140\n",
      "Number of slices obtained from 0_12.jpg: 140\n",
      "Number of slices obtained from 0_13.jpg: 140\n",
      "Number of slices obtained from 0_14.jpg: 140\n",
      "Number of slices obtained from 0_15.jpg: 140\n",
      "Number of slices obtained from 0_2.jpg: 140\n",
      "Number of slices obtained from 0_4.jpg: 140\n",
      "Number of slices obtained from 0_6.jpg: 140\n",
      "Number of slices obtained from 0_8.jpg: 140\n",
      "Number of slices obtained from 0_9.jpg: 140\n",
      "Number of slices obtained from 1_1.jpg: 140\n",
      "Number of slices obtained from 1_10.jpg: 140\n",
      "Number of slices obtained from 1_11.jpg: 140\n",
      "Number of slices obtained from 1_12.jpg: 140\n",
      "Number of slices obtained from 1_13.jpg: 140\n",
      "Number of slices obtained from 1_14.jpg: 140\n",
      "Number of slices obtained from 1_2.jpg: 140\n",
      "Number of slices obtained from 1_3.jpg: 140\n",
      "Number of slices obtained from 1_4.jpg: 140\n",
      "Number of slices obtained from 1_5.jpg: 140\n",
      "Number of slices obtained from 1_6.jpg: 140\n",
      "Number of slices obtained from 1_7.jpg: 140\n",
      "Number of slices obtained from 1_8.jpg: 140\n",
      "Number of slices obtained from 2_1.jpg: 140\n",
      "Number of slices obtained from 2_10.jpg: 140\n",
      "Number of slices obtained from 2_12.jpg: 140\n",
      "Number of slices obtained from 2_13.jpg: 140\n",
      "Number of slices obtained from 2_14.jpg: 140\n",
      "Number of slices obtained from 2_15.jpg: 140\n",
      "Number of slices obtained from 2_2.jpg: 140\n",
      "Number of slices obtained from 2_3.jpg: 140\n",
      "Number of slices obtained from 2_4.jpg: 140\n",
      "Number of slices obtained from 2_5.jpg: 140\n",
      "Number of slices obtained from 2_6.jpg: 140\n",
      "Number of slices obtained from 2_8.jpg: 140\n",
      "Number of slices obtained from 2_9.jpg: 140\n"
     ]
    }
   ],
   "source": [
    "image_files = [f for f in os.listdir(input_folder) if f.endswith('.jpg')]\n",
    "\n",
    "for image_file in image_files:\n",
    "    image_path = os.path.join(input_folder, image_file)\n",
    "    img = Image.open(image_path)\n",
    "\n",
    "    original_image_name = os.path.splitext(image_file)[0]\n",
    "\n",
    "    num_saved_slices = slice_and_rotate_image(img, output_folder, original_image_name, final_slice_size=150)\n",
    "    print(f'Number of slices obtained from {image_file}: {num_saved_slices}')"
   ]
  },
  {
   "cell_type": "code",
   "execution_count": 9,
   "metadata": {},
   "outputs": [
    {
     "data": {
      "text/plain": [
       "(150, 150, 3)"
      ]
     },
     "execution_count": 9,
     "metadata": {},
     "output_type": "execute_result"
    }
   ],
   "source": [
    "img = \"./img_sliced_and_tilted/0_1_slice_22.jpg\"\n",
    "img = cv2.imread(img)\n",
    "img.shape"
   ]
  }
 ],
 "metadata": {
  "kernelspec": {
   "display_name": "development",
   "language": "python",
   "name": "python3"
  },
  "language_info": {
   "codemirror_mode": {
    "name": "ipython",
    "version": 3
   },
   "file_extension": ".py",
   "mimetype": "text/x-python",
   "name": "python",
   "nbconvert_exporter": "python",
   "pygments_lexer": "ipython3",
   "version": "3.10.6"
  }
 },
 "nbformat": 4,
 "nbformat_minor": 2
}
